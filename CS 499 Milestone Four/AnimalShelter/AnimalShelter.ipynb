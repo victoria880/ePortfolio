{
 "cells": [
  {
   "cell_type": "code",
   "execution_count": null,
   "id": "b0c3a5b5",
   "metadata": {},
   "outputs": [],
   "source": [
    "from AnimalShelter import AnimalShelter"
   ]
  },
  {
   "cell_type": "code",
   "execution_count": null,
   "id": "7afa32b5",
   "metadata": {},
   "outputs": [],
   "source": [
    "from bson.objectid import ObjectId"
   ]
  },
  {
   "cell_type": "code",
   "execution_count": null,
   "id": "50ad93c1",
   "metadata": {},
   "outputs": [],
   "source": [
    "animals = AnimalShelter('aacuser', 'your_password_here')"
   ]
  },
  {
   "cell_type": "code",
   "execution_count": null,
   "id": "5c44ce42",
   "metadata": {},
   "outputs": [],
   "source": [
    "#Vaild document create\n",
    "print(animals.create ({\n",
    "    'age_upon_outcome': \"5 years\",\n",
    "    'animal_id': \"test\",\n",
    "    'animal_type': \"Cat\",\n",
    "    'breed': \"Maine Coon\",\n",
    "    'color': \"Tortoiseshel\",\n",
    "    'date_of_birth': \"2018-07-27\",\n",
    "    'datetime': \"2018-07-27 11:14:00\",\n",
    "    'monthyear': \"2018-07-27T11:14:00\",\n",
    "    'name': \"Gretchen\",\n",
    "    'outcome_subtype': \"\",\n",
    "    'outcome_type': 'Adoption',\n",
    "    'sex_upon_outcome': \"Spayed Female\",\n",
    "    'location_lat': 30.6525984560228,\n",
    "    'location_long': -97.7419963476444,\n",
    "    'age_upon_outcome_in_weeks': 52.9215277777778}))\n",
    "True"
   ]
  },
  {
   "cell_type": "code",
   "execution_count": null,
   "id": "b54c4622",
   "metadata": {},
   "outputs": [],
   "source": [
    "#Invaild Document \n",
    "print(animals.create({0:0}))"
   ]
  },
  {
   "cell_type": "code",
   "execution_count": null,
   "id": "c0a8e26a",
   "metadata": {},
   "outputs": [],
   "source": [
    "#Valid query\n",
    "query = animals.read({\"name\": \"Gretchen\"})\n",
    "for animal in query:\n",
    "    print(animal)"
   ]
  },
  {
   "cell_type": "code",
   "execution_count": null,
   "id": "b30c777c",
   "metadata": {},
   "outputs": [],
   "source": [
    "#invalid query throws exception\n",
    "print(list(animals.read({0:0})))"
   ]
  },
  {
   "cell_type": "code",
   "execution_count": null,
   "id": "0e07fc8b",
   "metadata": {},
   "outputs": [],
   "source": []
  }
 ],
 "metadata": {
  "kernelspec": {
   "display_name": "Python 3 (ipykernel)",
   "language": "python",
   "name": "python3"
  },
  "language_info": {
   "codemirror_mode": {
    "name": "ipython",
    "version": 3
   },
   "file_extension": ".py",
   "mimetype": "text/x-python",
   "name": "python",
   "nbconvert_exporter": "python",
   "pygments_lexer": "ipython3",
   "version": "3.9.12"
  }
 },
 "nbformat": 4,
 "nbformat_minor": 5
}
